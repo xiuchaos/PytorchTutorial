{
 "cells": [
  {
   "cell_type": "code",
   "execution_count": 2,
   "metadata": {},
   "outputs": [],
   "source": [
    "import numpy as np\n",
    "import torch\n",
    "from torch import nn\n",
    "from torchvision.datasets import MNIST\n",
    "from torch.utils.data import DataLoader\n",
    "from torch.autograd import Variable\n",
    "import time\n",
    "import matplotlib.pyplot as plt\n",
    "%matplotlib inline\n",
    "\n",
    "def data_tf(x):\n",
    "    x = np.array(x, dtype='float32') / 255 \n",
    "    x = (x - 0.5) / 0.5 \n",
    "    x = x.reshape((-1,)) #\n",
    "    x = torch.from_numpy(x)\n",
    "    return x\n",
    "\n",
    "train_set = MNIST('./data', train=True, transform=data_tf, download=True)\n",
    "test_set = MNIST('./data', train=False, transform=data_tf, download=True)\n",
    "criterion = nn.CrossEntropyLoss()\n",
    "\n",
    "#optimzier = torch.optim.SGD(net.parameters(), 1e-2)\n",
    "def sgd_update(parameters, lr):\n",
    "    for param in parameters:\n",
    "        param.data = param.data - lr * param.grad.data"
   ]
  },
  {
   "cell_type": "code",
   "execution_count": 12,
   "metadata": {},
   "outputs": [],
   "source": [
    "train_data = DataLoader(train_set, batch_size = 1, shuffle = True)\n",
    "\n",
    "net = nn.Sequential(\n",
    "    nn.Linear(784, 200),\n",
    "    nn.ReLU(),\n",
    "    nn.Linear(200,10),\n",
    ")\n"
   ]
  },
  {
   "cell_type": "code",
   "execution_count": 14,
   "metadata": {},
   "outputs": [
    {
     "name": "stderr",
     "output_type": "stream",
     "text": [
      "/home/xiuchao/anaconda3/lib/python3.6/site-packages/ipykernel_launcher.py:19: UserWarning: invalid index of a 0-dim tensor. This will be an error in PyTorch 0.5. Use tensor.item() to convert a 0-dim tensor to a Python number\n",
      "/home/xiuchao/anaconda3/lib/python3.6/site-packages/ipykernel_launcher.py:21: UserWarning: invalid index of a 0-dim tensor. This will be an error in PyTorch 0.5. Use tensor.item() to convert a 0-dim tensor to a Python number\n"
     ]
    },
    {
     "name": "stdout",
     "output_type": "stream",
     "text": [
      "epoch: 0, Train Loss: 0.347404\n",
      "epoch: 1, Train Loss: 0.210097\n",
      "epoch: 2, Train Loss: 0.173367\n",
      "epoch: 3, Train Loss: 0.156514\n",
      "epoch: 4, Train Loss: 0.140962\n",
      "使用时间: 133.37769 s\n"
     ]
    }
   ],
   "source": [
    "# ================= batch_size = 1, losses =====================\n",
    "\n",
    "losses1 = []\n",
    "idx = 0\n",
    "\n",
    "start = time.time()\n",
    "for e in range(5):\n",
    "    train_loss = 0\n",
    "    \n",
    "    for im, label in train_data:\n",
    "        im = Variable(im)\n",
    "        label = Variable(label)\n",
    "        # forward\n",
    "        out = net(im)\n",
    "        loss = criterion(out, label )\n",
    "        # backward\n",
    "        net.zero_grad()\n",
    "        loss.backward()\n",
    "        sgd_update(net.parameters(), 1e-2)\n",
    "        # loss\n",
    "        train_loss += loss.data[0]\n",
    "        if idx % 30 == 0:\n",
    "            losses1.append(loss.data[0])\n",
    "        idx += 1\n",
    "    print('epoch: {}, Train Loss: {:.6f}'.format(e, train_loss / len(train_data)))\n",
    "\n",
    "    end = time.time() # 计时结束\n",
    "print('使用时间: {:.5f} s'.format(end - start))    \n"
   ]
  },
  {
   "cell_type": "code",
   "execution_count": 31,
   "metadata": {
    "scrolled": true
   },
   "outputs": [
    {
     "data": {
      "text/plain": [
       "<matplotlib.legend.Legend at 0x7f81bca9f860>"
      ]
     },
     "execution_count": 31,
     "metadata": {},
     "output_type": "execute_result"
    },
    {
     "data": {
      "image/png": "[encoded data removed]",
      "text/plain": [
       "<Figure size 432x288 with 1 Axes>"
      ]
     },
     "metadata": {},
     "output_type": "display_data"
    }
   ],
   "source": [
    "x_axis = np.linspace(0,10, len(losses1), endpoint=True)\n",
    "plt.semilogy(x_axis, losses1, label='batch_size=1')\n",
    "plt.legend(loc='best')\n"
   ]
  },
  {
   "cell_type": "code",
   "execution_count": 33,
   "metadata": {},
   "outputs": [
    {
     "name": "stderr",
     "output_type": "stream",
     "text": [
      "/home/xiuchao/anaconda3/lib/python3.6/site-packages/ipykernel_launcher.py:27: UserWarning: invalid index of a 0-dim tensor. This will be an error in PyTorch 0.5. Use tensor.item() to convert a 0-dim tensor to a Python number\n",
      "/home/xiuchao/anaconda3/lib/python3.6/site-packages/ipykernel_launcher.py:29: UserWarning: invalid index of a 0-dim tensor. This will be an error in PyTorch 0.5. Use tensor.item() to convert a 0-dim tensor to a Python number\n"
     ]
    },
    {
     "name": "stdout",
     "output_type": "stream",
     "text": [
      "epoch:0,Train Loss: 0.743158\n",
      "epoch:1,Train Loss: 0.365815\n",
      "epoch:2,Train Loss: 0.320280\n",
      "epoch:3,Train Loss: 0.293959\n",
      "epoch:4,Train Loss: 0.271978\n",
      "time: 21.91398 s\n"
     ]
    }
   ],
   "source": [
    "# ================= batch_size = 64, losses ===================== w\n",
    "train_data = DataLoader(train_set, batch_size=64, shuffle=True)\n",
    "\n",
    "net = nn.Sequential(\n",
    "    nn.Linear(784, 200),\n",
    "    nn.ReLU(),\n",
    "    nn.Linear(200,10)\n",
    ")\n",
    "\n",
    "losses2 = []\n",
    "idx = 0\n",
    "start = time.time()\n",
    "for e in range(5):\n",
    "    train_loss = 0\n",
    "    \n",
    "    for im, label in train_data:\n",
    "        im = Variable(im)\n",
    "        label = Variable(label)\n",
    "        # forward\n",
    "        out = net(im)\n",
    "        loss = criterion(out, label)\n",
    "        # backward\n",
    "        net.zero_grad()\n",
    "        loss.backward()\n",
    "        sgd_update(net.parameters(),1e-2)\n",
    "        # error\n",
    "        train_loss += loss.data[0]\n",
    "        if idx % 30 == 0:\n",
    "            losses2.append(loss.data[0])\n",
    "        idx += 1\n",
    "    print('epoch:{},Train Loss: {:.6f}'.format(e, train_loss / len(train_data)))\n",
    "    \n",
    "end = time.time()\n",
    "print('time: {:.5f} s'.format(end - start))\n",
    "        "
   ]
  },
  {
   "cell_type": "code",
   "execution_count": 39,
   "metadata": {},
   "outputs": [
    {
     "data": {
      "text/plain": [
       "<matplotlib.legend.Legend at 0x7f81bce44710>"
      ]
     },
     "execution_count": 39,
     "metadata": {},
     "output_type": "execute_result"
    },
    {
     "data": {
      "image/png": "[encoded data removed]",
      "text/plain": [
       "<Figure size 432x288 with 1 Axes>"
      ]
     },
     "metadata": {},
     "output_type": "display_data"
    }
   ],
   "source": [
    "# - Why Batch - \n",
    "# batch = 64, training process faster, flutuate less\n",
    "# ----\n",
    "\n",
    "x_axis =  np.linspace(0, 5, len(losses2), endpoint=True)\n",
    "plt.semilogy(x_axis, losses2, label='batch_size=64')\n",
    "plt.legend(loc='best')"
   ]
  },
  {
   "cell_type": "code",
   "execution_count": null,
   "metadata": {},
   "outputs": [],
   "source": []
  },
  {
   "cell_type": "code",
   "execution_count": 4,
   "metadata": {},
   "outputs": [
    {
     "name": "stderr",
     "output_type": "stream",
     "text": [
      "/home/xiuchao/anaconda3/lib/python3.6/site-packages/ipykernel_launcher.py:28: UserWarning: invalid index of a 0-dim tensor. This will be an error in PyTorch 0.5. Use tensor.item() to convert a 0-dim tensor to a Python number\n",
      "/home/xiuchao/anaconda3/lib/python3.6/site-packages/ipykernel_launcher.py:30: UserWarning: invalid index of a 0-dim tensor. This will be an error in PyTorch 0.5. Use tensor.item() to convert a 0-dim tensor to a Python number\n"
     ]
    },
    {
     "name": "stdout",
     "output_type": "stream",
     "text": [
      "epoch: 0, Train Loss: 2.579611\n",
      "epoch: 1, Train Loss: 2.309734\n",
      "epoch: 2, Train Loss: 2.305043\n",
      "epoch: 3, Train Loss: 2.304931\n",
      "epoch: 4, Train Loss: 2.304838\n",
      "time: 26.16485 s\n"
     ]
    }
   ],
   "source": [
    "# ================= increase learning rate ===================== \n",
    "train_data = DataLoader(train_set, batch_size = 64, shuffle=True)\n",
    "\n",
    "net = nn.Sequential(\n",
    "    nn.Linear(784, 200),\n",
    "    nn.ReLU(),\n",
    "    nn.Linear(200, 10),\n",
    ")\n",
    "\n",
    "losses3 = []\n",
    "idx = 0\n",
    "start = time.time()\n",
    "\n",
    "for e in range(5):\n",
    "    train_loss = 0\n",
    "    \n",
    "    for im, label in train_data:\n",
    "        im = Variable(im)\n",
    "        label = Variable(label)\n",
    "        # forward\n",
    "        out = net(im)\n",
    "        loss = criterion(out, label)\n",
    "        # backward\n",
    "        net.zero_grad()\n",
    "        loss.backward()\n",
    "        sgd_update(net.parameters(),1) #optimzier = torch.optim.SGD(net.parameters(), 1e-2)\n",
    "        \n",
    "        # loss\n",
    "        train_loss += loss.data[0]\n",
    "        if idx % 30 ==0:\n",
    "            losses3.append(loss.data[0])\n",
    "        idx += 1\n",
    "    print('epoch: {}, Train Loss: {:.6f}'\n",
    "          .format(e, train_loss / len(train_data)))\n",
    "    \n",
    "end = time.time()\n",
    "print('time: {:.5f} s'.format(end - start))\n",
    "\n",
    "\n"
   ]
  },
  {
   "cell_type": "code",
   "execution_count": 5,
   "metadata": {},
   "outputs": [
    {
     "data": {
      "text/plain": [
       "<matplotlib.legend.Legend at 0x7f89f847ab38>"
      ]
     },
     "execution_count": 5,
     "metadata": {},
     "output_type": "execute_result"
    },
    {
     "data": {
      "image/png": "[encoded data removed]",
      "text/plain": [
       "<Figure size 432x288 with 1 Axes>"
      ]
     },
     "metadata": {},
     "output_type": "display_data"
    }
   ],
   "source": [
    "x_axis = np.linspace(0, 5, len(losses3), endpoint=True)\n",
    "plt.semilogy(x_axis, losses3, label='lr = 1')\n",
    "plt.legend(loc='best')\n"
   ]
  },
  {
   "cell_type": "code",
   "execution_count": 6,
   "metadata": {},
   "outputs": [
    {
     "name": "stderr",
     "output_type": "stream",
     "text": [
      "/home/xiuchao/anaconda3/lib/python3.6/site-packages/ipykernel_launcher.py:24: UserWarning: invalid index of a 0-dim tensor. This will be an error in PyTorch 0.5. Use tensor.item() to convert a 0-dim tensor to a Python number\n"
     ]
    },
    {
     "name": "stdout",
     "output_type": "stream",
     "text": [
      "epoch: 0, Train Loss: 0.735687\n",
      "epoch: 1, Train Loss: 0.365016\n",
      "epoch: 2, Train Loss: 0.320366\n",
      "epoch: 3, Train Loss: 0.293881\n",
      "epoch: 4, Train Loss: 0.272321\n",
      "使用时间: 24.07505 s\n"
     ]
    }
   ],
   "source": [
    "\n",
    "train_datatrain_d  = DataLoader(train_set, batch_size=64, shuffle=True)\n",
    "net = nn.Sequential(\n",
    "    nn.Linear(784, 200),\n",
    "    nn.ReLU(),\n",
    "    nn.Linear(200, 10),\n",
    ")\n",
    "\n",
    "optimzier = torch.optim.SGD(net.parameters(), 1e-2)\n",
    "start = time.time() \n",
    "for e in range(5):\n",
    "    train_loss = 0\n",
    "    for im, label in train_data:\n",
    "        im = Variable(im)\n",
    "        label = Variable(label)\n",
    "        # forward\n",
    "        out = net(im)\n",
    "        loss = criterion(out, label)\n",
    "        # backward\n",
    "        optimzier.zero_grad()\n",
    "        loss.backward()\n",
    "        optimzier.step()\n",
    "        # loss\n",
    "        train_loss += loss.data[0]\n",
    "    print('epoch: {}, Train Loss: {:.6f}'\n",
    "          .format(e, train_loss / len(train_data)))\n",
    "    \n",
    "end = time.time() \n",
    "print('time: {:.5f} s'.format(end - start))"
   ]
  },
  {
   "cell_type": "code",
   "execution_count": null,
   "metadata": {},
   "outputs": [],
   "source": []
  }
 ],
 "metadata": {
  "kernelspec": {
   "display_name": "Python 3",
   "language": "python",
   "name": "python3"
  },
  "language_info": {
   "codemirror_mode": {
    "name": "ipython",
    "version": 3
   },
   "file_extension": ".py",
   "mimetype": "text/x-python",
   "name": "python",
   "nbconvert_exporter": "python",
   "pygments_lexer": "ipython3",
   "version": "3.6.5"
  }
 },
 "nbformat": 4,
 "nbformat_minor": 2
}
