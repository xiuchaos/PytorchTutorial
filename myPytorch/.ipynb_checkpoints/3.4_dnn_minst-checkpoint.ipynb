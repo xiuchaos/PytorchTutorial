{
 "cells": [
  {
   "cell_type": "code",
   "execution_count": 3,
   "metadata": {},
   "outputs": [],
   "source": [
    "import numpy as np\n",
    "import torch\n",
    "from torch import nn\n",
    "from torch.autograd import Variable\n",
    "from torchvision.datasets import mnist \n",
    "from torchvision import transforms\n"
   ]
  },
  {
   "cell_type": "code",
   "execution_count": 4,
   "metadata": {},
   "outputs": [
    {
     "name": "stdout",
     "output_type": "stream",
     "text": [
      "torch.Size([784])\n",
      "tensor(5)\n",
      "torch.Size([64, 784])\n",
      "torch.Size([64])\n"
     ]
    }
   ],
   "source": [
    " #========= mnist data =========\n",
    "train_set = mnist.MNIST('./data', train = True, download=True)\n",
    "test_set = mnist.MNIST('./data', train = False, download=True)\n",
    "a_data, a_label = train_set[0]\n",
    "a_data\n",
    "a_label\n",
    "\n",
    "# transform data\n",
    "def data_tf(x):\n",
    "    x = np.array(x, dtype='float32')/255\n",
    "    x = (x-0.5)/0.5\n",
    "    x = x.reshape((-1,))\n",
    "    x = torch.from_numpy(x)\n",
    "    return x\n",
    "\n",
    "train_set = mnist.MNIST('./data', train=True, transform=data_tf, download=True)\n",
    "test_set = mnist.MNIST('./data', train=False, transform=data_tf, download=True)\n",
    "a,  a_label = train_set[0]\n",
    "print(a.shape)\n",
    "print(a_label)\n",
    "\n",
    "# batch of transformed data\n",
    "from torch.utils.data import DataLoader\n",
    "train_data = DataLoader(train_set, batch_size=64, shuffle=True)\n",
    "test_data = DataLoader(test_set, batch_size=128, shuffle=False)\n",
    "a, a_label = next(iter(train_data))\n",
    "print(a.shape)\n",
    "print(a_label.shape)"
   ]
  },
  {
   "cell_type": "code",
   "execution_count": 5,
   "metadata": {},
   "outputs": [],
   "source": [
    "# ======== Four layer nn ========\n",
    "net = nn.Sequential(\n",
    "    nn.Linear(784, 400),\n",
    "    nn.ReLU(),\n",
    "    nn.Linear(400, 200),\n",
    "    nn.ReLU(),\n",
    "    nn.Linear(200, 100),\n",
    "    nn.ReLU(),\n",
    "    nn.Linear(100, 10)\n",
    ")\n",
    "\n",
    "# define loss\n",
    "criterion = nn.CrossEntropyLoss()\n",
    "optimizer = torch.optim.SGD(net.parameters(), 1e-1)\n"
   ]
  },
  {
   "cell_type": "code",
   "execution_count": 6,
   "metadata": {},
   "outputs": [
    {
     "name": "stderr",
     "output_type": "stream",
     "text": [
      "/home/xiuchao/anaconda3/lib/python3.6/site-packages/ipykernel_launcher.py:24: UserWarning: invalid index of a 0-dim tensor. This will be an error in PyTorch 0.5. Use tensor.item() to convert a 0-dim tensor to a Python number\n",
      "/home/xiuchao/anaconda3/lib/python3.6/site-packages/ipykernel_launcher.py:27: UserWarning: invalid index of a 0-dim tensor. This will be an error in PyTorch 0.5. Use tensor.item() to convert a 0-dim tensor to a Python number\n",
      "/home/xiuchao/anaconda3/lib/python3.6/site-packages/ipykernel_launcher.py:45: UserWarning: invalid index of a 0-dim tensor. This will be an error in PyTorch 0.5. Use tensor.item() to convert a 0-dim tensor to a Python number\n",
      "/home/xiuchao/anaconda3/lib/python3.6/site-packages/ipykernel_launcher.py:48: UserWarning: invalid index of a 0-dim tensor. This will be an error in PyTorch 0.5. Use tensor.item() to convert a 0-dim tensor to a Python number\n"
     ]
    },
    {
     "name": "stdout",
     "output_type": "stream",
     "text": [
      "epoch: 0, Train Loss: 0.503459, Train Acc: 0.834405, Eval Loss: 0.201763,Eval Acc: 0.000000\n",
      "epoch: 1, Train Loss: 0.165315, Train Acc: 0.948527, Eval Loss: 0.157433,Eval Acc: 0.000000\n",
      "epoch: 2, Train Loss: 0.116708, Train Acc: 0.963736, Eval Loss: 0.154984,Eval Acc: 0.000000\n",
      "epoch: 3, Train Loss: 0.093342, Train Acc: 0.970965, Eval Loss: 0.087037,Eval Acc: 0.000000\n",
      "epoch: 4, Train Loss: 0.074081, Train Acc: 0.976413, Eval Loss: 0.083495,Eval Acc: 0.000000\n",
      "epoch: 5, Train Loss: 0.059925, Train Acc: 0.980810, Eval Loss: 0.086470,Eval Acc: 0.000000\n",
      "epoch: 6, Train Loss: 0.052818, Train Acc: 0.982509, Eval Loss: 0.084814,Eval Acc: 0.000000\n",
      "epoch: 7, Train Loss: 0.043051, Train Acc: 0.986057, Eval Loss: 0.070801,Eval Acc: 0.000000\n",
      "epoch: 8, Train Loss: 0.038750, Train Acc: 0.987240, Eval Loss: 0.128120,Eval Acc: 0.000000\n",
      "epoch: 9, Train Loss: 0.033823, Train Acc: 0.989489, Eval Loss: 0.084851,Eval Acc: 0.000000\n",
      "epoch: 10, Train Loss: 0.026497, Train Acc: 0.991521, Eval Loss: 0.064588,Eval Acc: 0.000000\n",
      "epoch: 11, Train Loss: 0.023383, Train Acc: 0.992287, Eval Loss: 0.142631,Eval Acc: 0.000000\n",
      "epoch: 12, Train Loss: 0.022199, Train Acc: 0.992854, Eval Loss: 0.062755,Eval Acc: 0.000000\n",
      "epoch: 13, Train Loss: 0.020462, Train Acc: 0.993187, Eval Loss: 0.077411,Eval Acc: 0.000000\n",
      "epoch: 14, Train Loss: 0.015890, Train Acc: 0.994869, Eval Loss: 0.221672,Eval Acc: 0.000000\n",
      "epoch: 15, Train Loss: 0.015277, Train Acc: 0.995153, Eval Loss: 0.064476,Eval Acc: 0.000000\n",
      "epoch: 16, Train Loss: 0.012986, Train Acc: 0.995602, Eval Loss: 0.094824,Eval Acc: 0.000000\n",
      "epoch: 17, Train Loss: 0.011193, Train Acc: 0.996219, Eval Loss: 0.067029,Eval Acc: 0.000000\n",
      "epoch: 18, Train Loss: 0.011146, Train Acc: 0.996285, Eval Loss: 0.067535,Eval Acc: 0.000000\n",
      "epoch: 19, Train Loss: 0.009153, Train Acc: 0.997035, Eval Loss: 0.064102,Eval Acc: 0.000000\n"
     ]
    }
   ],
   "source": [
    "# start to train\n",
    "import pdb\n",
    "losses = []\n",
    "acces = []\n",
    "eval_losses = []\n",
    "eval_acces = []\n",
    "\n",
    "for e in range(20):\n",
    "    train_loss = 0\n",
    "    train_acc = 0\n",
    "    net.train()\n",
    "\n",
    "    for im, label in train_data:\n",
    "        im = Variable(im)\n",
    "        label = Variable(label)\n",
    "        # forward\n",
    "        out = net(im)\n",
    "        loss = criterion(out, label)\n",
    "        # backward\n",
    "        optimizer.zero_grad()\n",
    "        loss.backward()\n",
    "        optimizer.step()\n",
    "        # loss\n",
    "        train_loss += loss.data[0].numpy()\n",
    "        # accuracy\n",
    "        _, pred = out.max(1)\n",
    "        num_correct = (pred == label).sum().data[0]\n",
    "        acc = num_correct.numpy() / im.shape[0]\n",
    "        train_acc += acc\n",
    "        \n",
    "    losses.append(train_loss / len(train_data))\n",
    "    acces.append(train_acc / len(train_data))\n",
    "    \n",
    "    # evaluate on test-set\n",
    "    eval_loss = 0\n",
    "    eval_acc = 0\n",
    "    net.eval()\n",
    "\n",
    "    for im, label in test_data:\n",
    "        im = Variable(im)\n",
    "        label = Variable(label)\n",
    "        out = net(im)\n",
    "        loss = criterion(out, label)\n",
    "        # loss\n",
    "        eval_loss += loss.data[0]\n",
    "        # accuracy\n",
    "        _, pred = out.max(1)\n",
    "        num_correct = (pred == label).sum().data[0]\n",
    "        acc = num_correct / im.shape[0]\n",
    "        eval_acc += acc\n",
    "        \n",
    "    eval_losses.append(eval_loss.numpy()/len(test_data))\n",
    "    eval_acces.append(eval_acc.numpy() / len(test_data))\n",
    "    print('epoch: {}, Train Loss: {:.6f}, Train Acc: {:.6f}, Eval Loss: {:.6f},Eval Acc: {:.6f}'\\\n",
    "    \t.format(e, train_loss / len(train_data), train_acc /len(train_data),\\\n",
    "    \t\t\t\teval_loss / len(test_data),  eval_acc / len(test_data)))"
   ]
  },
  {
   "cell_type": "code",
   "execution_count": 8,
   "metadata": {},
   "outputs": [
    {
     "name": "stdout",
     "output_type": "stream",
     "text": [
      "Using matplotlib backend: Qt5Agg\n"
     ]
    },
    {
     "data": {
      "text/plain": [
       "[<matplotlib.lines.Line2D at 0x7f90a8077160>]"
      ]
     },
     "execution_count": 8,
     "metadata": {},
     "output_type": "execute_result"
    }
   ],
   "source": [
    "import matplotlib.pyplot as plt\n",
    "%matplotlib\n",
    "plt.title('train loss')\n",
    "plt.plot(np.arange(len(losses)), losses)"
   ]
  },
  {
   "cell_type": "code",
   "execution_count": 10,
   "metadata": {},
   "outputs": [
    {
     "data": {
      "text/plain": [
       "[<matplotlib.lines.Line2D at 0x7f902d87c748>]"
      ]
     },
     "execution_count": 10,
     "metadata": {},
     "output_type": "execute_result"
    }
   ],
   "source": [
    "plt.title('train acc')\n",
    "plt.plot(np.arange(len(acces)), acces)"
   ]
  },
  {
   "cell_type": "code",
   "execution_count": 12,
   "metadata": {},
   "outputs": [
    {
     "data": {
      "text/plain": [
       "Text(0.5,1,'test loss')"
      ]
     },
     "execution_count": 12,
     "metadata": {},
     "output_type": "execute_result"
    }
   ],
   "source": [
    "plt.plot(np.arange(len(eval_losses)), eval_losses)\n",
    "plt.title('test loss')"
   ]
  },
  {
   "cell_type": "code",
   "execution_count": 14,
   "metadata": {},
   "outputs": [
    {
     "data": {
      "text/plain": [
       "Text(0.5,1,'test acc')"
      ]
     },
     "execution_count": 14,
     "metadata": {},
     "output_type": "execute_result"
    }
   ],
   "source": [
    "plt.plot(np.arange(len(eval_acces)), eval_acces)\n",
    "plt.title('test acc')"
   ]
  }
 ],
 "metadata": {
  "kernelspec": {
   "display_name": "Python 3",
   "language": "python",
   "name": "python3"
  },
  "language_info": {
   "codemirror_mode": {
    "name": "ipython",
    "version": 3
   },
   "file_extension": ".py",
   "mimetype": "text/x-python",
   "name": "python",
   "nbconvert_exporter": "python",
   "pygments_lexer": "ipython3",
   "version": "3.6.5"
  }
 },
 "nbformat": 4,
 "nbformat_minor": 2
}
