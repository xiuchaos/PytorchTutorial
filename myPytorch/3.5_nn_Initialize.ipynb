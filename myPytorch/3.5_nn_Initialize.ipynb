{
 "cells": [
  {
   "cell_type": "code",
   "execution_count": 27,
   "metadata": {},
   "outputs": [],
   "source": [
    "import numpy as np\n",
    "import torch\n",
    "from torch import nn\n",
    "\n",
    "net1 = nn.Sequential(\n",
    "    nn.Linear(30,40),\n",
    "    nn.ReLU(),\n",
    "    nn.Linear(40,50),\n",
    "    nn.ReLU(),\n",
    "    nn.Linear(50,10)\n",
    ")"
   ]
  },
  {
   "cell_type": "code",
   "execution_count": 28,
   "metadata": {},
   "outputs": [],
   "source": [
    "w1 = net1[0].weight\n",
    "b1 = net1[0].bias"
   ]
  },
  {
   "cell_type": "code",
   "execution_count": 29,
   "metadata": {},
   "outputs": [
    {
     "name": "stdout",
     "output_type": "stream",
     "text": [
      "Parameter containing:\n",
      "tensor([[-0.0054, -0.0990,  0.0798,  ..., -0.1337, -0.1228, -0.0401],\n",
      "        [-0.1110,  0.0334,  0.0341,  ..., -0.0965,  0.1035,  0.1584],\n",
      "        [ 0.0650,  0.0273, -0.0967,  ..., -0.1705,  0.1735, -0.1291],\n",
      "        ...,\n",
      "        [ 0.0694,  0.1602, -0.0494,  ..., -0.1659, -0.0925,  0.1007],\n",
      "        [-0.0875,  0.0370, -0.0351,  ..., -0.0916, -0.1541, -0.0265],\n",
      "        [-0.0935,  0.1190,  0.0916,  ...,  0.1156,  0.0921,  0.0403]],\n",
      "       requires_grad=True)\n"
     ]
    }
   ],
   "source": [
    "print(w1)"
   ]
  },
  {
   "cell_type": "code",
   "execution_count": 30,
   "metadata": {},
   "outputs": [],
   "source": [
    "net1[0].weight.data = torch.from_numpy(np.random.uniform(2,5,size=(40,30)))"
   ]
  },
  {
   "cell_type": "code",
   "execution_count": 31,
   "metadata": {},
   "outputs": [
    {
     "name": "stdout",
     "output_type": "stream",
     "text": [
      "Parameter containing:\n",
      "tensor([[2.4927, 2.4294, 4.1439,  ..., 2.2738, 2.8246, 4.0324],\n",
      "        [2.3002, 3.0353, 2.2383,  ..., 4.6224, 2.2438, 2.8907],\n",
      "        [4.6871, 2.2054, 3.5648,  ..., 2.1451, 3.5613, 2.0716],\n",
      "        ...,\n",
      "        [4.0252, 3.8234, 2.3096,  ..., 2.7168, 4.2191, 4.3770],\n",
      "        [4.6017, 4.3739, 2.6870,  ..., 2.3041, 2.2583, 3.0866],\n",
      "        [4.8226, 3.5464, 2.1238,  ..., 3.3191, 4.0188, 2.0128]],\n",
      "       dtype=torch.float64, requires_grad=True)\n"
     ]
    }
   ],
   "source": [
    "print(net1[0].weight)"
   ]
  },
  {
   "cell_type": "code",
   "execution_count": 32,
   "metadata": {},
   "outputs": [],
   "source": [
    "for layer in net1:\n",
    "    if isinstance(layer, nn.Linear):\n",
    "        param_shape = layer.weight.shape\n",
    "        layer.weight.data = torch.from_numpy(np.random.normal(0, 0.5, size=param_shape)) "
   ]
  },
  {
   "cell_type": "code",
   "execution_count": 35,
   "metadata": {},
   "outputs": [],
   "source": [
    "class  sim_net(nn.Module):\n",
    "    def __init__(self):\n",
    "        super(sim_net, self).__init__()\n",
    "        self.l1 = nn.Sequential(\n",
    "            nn.Linear(30, 40),\n",
    "            nn.ReLU()\n",
    "        )\n",
    "        self.l1[0].weight.data = torch.randn(40, 30) \n",
    "        \n",
    "        self.l2 = nn.Sequential(\n",
    "            nn.Linear(40, 50),\n",
    "            nn.ReLU()\n",
    "        )\n",
    "        \n",
    "        self.l3 = nn.Sequential(\n",
    "            nn.Linear(50, 10),\n",
    "            nn.ReLU()\n",
    "        )\n",
    "    \n",
    "    def forward(self, x):\n",
    "        x = self.l1(x)\n",
    "        x =self.l2(x)\n",
    "        x = self.l3(x)\n",
    "        return x"
   ]
  },
  {
   "cell_type": "code",
   "execution_count": 36,
   "metadata": {},
   "outputs": [],
   "source": [
    "net2 = sim_net()"
   ]
  },
  {
   "cell_type": "code",
   "execution_count": 37,
   "metadata": {},
   "outputs": [
    {
     "name": "stdout",
     "output_type": "stream",
     "text": [
      "Sequential(\n",
      "  (0): Linear(in_features=30, out_features=40, bias=True)\n",
      "  (1): ReLU()\n",
      ")\n",
      "Sequential(\n",
      "  (0): Linear(in_features=40, out_features=50, bias=True)\n",
      "  (1): ReLU()\n",
      ")\n",
      "Sequential(\n",
      "  (0): Linear(in_features=50, out_features=10, bias=True)\n",
      "  (1): ReLU()\n",
      ")\n"
     ]
    }
   ],
   "source": [
    "for i in net2.children():\n",
    "    print(i)"
   ]
  },
  {
   "cell_type": "code",
   "execution_count": 38,
   "metadata": {},
   "outputs": [
    {
     "name": "stdout",
     "output_type": "stream",
     "text": [
      "sim_net(\n",
      "  (l1): Sequential(\n",
      "    (0): Linear(in_features=30, out_features=40, bias=True)\n",
      "    (1): ReLU()\n",
      "  )\n",
      "  (l2): Sequential(\n",
      "    (0): Linear(in_features=40, out_features=50, bias=True)\n",
      "    (1): ReLU()\n",
      "  )\n",
      "  (l3): Sequential(\n",
      "    (0): Linear(in_features=50, out_features=10, bias=True)\n",
      "    (1): ReLU()\n",
      "  )\n",
      ")\n",
      "Sequential(\n",
      "  (0): Linear(in_features=30, out_features=40, bias=True)\n",
      "  (1): ReLU()\n",
      ")\n",
      "Linear(in_features=30, out_features=40, bias=True)\n",
      "ReLU()\n",
      "Sequential(\n",
      "  (0): Linear(in_features=40, out_features=50, bias=True)\n",
      "  (1): ReLU()\n",
      ")\n",
      "Linear(in_features=40, out_features=50, bias=True)\n",
      "ReLU()\n",
      "Sequential(\n",
      "  (0): Linear(in_features=50, out_features=10, bias=True)\n",
      "  (1): ReLU()\n",
      ")\n",
      "Linear(in_features=50, out_features=10, bias=True)\n",
      "ReLU()\n"
     ]
    }
   ],
   "source": [
    "for i in net2.modules():\n",
    "    print(i)"
   ]
  },
  {
   "cell_type": "code",
   "execution_count": 39,
   "metadata": {},
   "outputs": [],
   "source": [
    "for layer in net2.modules():\n",
    "    if isinstance(layer, nn.Linear):\n",
    "        param_shape = layer.weight.shape\n",
    "        layer.weight.data = torch.from_numpy(np.random.normal(0, 0.5, size=param_shape))\n"
   ]
  },
  {
   "cell_type": "code",
   "execution_count": 40,
   "metadata": {},
   "outputs": [
    {
     "name": "stdout",
     "output_type": "stream",
     "text": [
      "Parameter containing:\n",
      "tensor([[ 1.3137,  0.3886,  0.0936,  ...,  0.1792,  0.0219, -0.1169],\n",
      "        [-0.4296, -0.0291,  0.7261,  ..., -0.2640, -0.5652, -0.1115],\n",
      "        [ 0.0204,  0.0466,  0.3861,  ..., -0.6062,  0.2590,  0.3339],\n",
      "        ...,\n",
      "        [-0.9081, -0.1344,  0.1048,  ..., -0.3535, -0.4712,  0.7374],\n",
      "        [ 0.0226,  0.8933,  0.5453,  ..., -0.4622, -0.0902, -0.8340],\n",
      "        [ 0.3551, -0.0007, -0.0105,  ..., -1.1080, -0.0909, -0.4083]],\n",
      "       dtype=torch.float64, requires_grad=True)\n"
     ]
    }
   ],
   "source": [
    "from torch.nn import init\n",
    "print(net1[0].weight)"
   ]
  },
  {
   "cell_type": "code",
   "execution_count": 41,
   "metadata": {},
   "outputs": [
    {
     "name": "stderr",
     "output_type": "stream",
     "text": [
      "/home/xiuchao/anaconda3/lib/python3.6/site-packages/ipykernel_launcher.py:1: UserWarning: nn.init.xavier_uniform is now deprecated in favor of nn.init.xavier_uniform_.\n",
      "  \"\"\"Entry point for launching an IPython kernel.\n"
     ]
    },
    {
     "data": {
      "text/plain": [
       "Parameter containing:\n",
       "tensor([[-0.0673,  0.0515,  0.2239,  ..., -0.2561, -0.2130, -0.2082],\n",
       "        [-0.0255, -0.0344,  0.1222,  ...,  0.2127,  0.0450,  0.1603],\n",
       "        [ 0.0412, -0.1725,  0.0656,  ...,  0.2216,  0.2589,  0.0074],\n",
       "        ...,\n",
       "        [ 0.1048, -0.1308,  0.0005,  ..., -0.0086,  0.2763, -0.2246],\n",
       "        [ 0.0200,  0.1959, -0.2546,  ...,  0.2891,  0.2497,  0.2694],\n",
       "        [-0.2143, -0.1083, -0.0347,  ..., -0.1009,  0.0443,  0.2769]],\n",
       "       dtype=torch.float64, requires_grad=True)"
      ]
     },
     "execution_count": 41,
     "metadata": {},
     "output_type": "execute_result"
    }
   ],
   "source": [
    "init.xavier_uniform(net1[0].weight)"
   ]
  },
  {
   "cell_type": "code",
   "execution_count": 42,
   "metadata": {},
   "outputs": [
    {
     "name": "stdout",
     "output_type": "stream",
     "text": [
      "Parameter containing:\n",
      "tensor([[-0.0673,  0.0515,  0.2239,  ..., -0.2561, -0.2130, -0.2082],\n",
      "        [-0.0255, -0.0344,  0.1222,  ...,  0.2127,  0.0450,  0.1603],\n",
      "        [ 0.0412, -0.1725,  0.0656,  ...,  0.2216,  0.2589,  0.0074],\n",
      "        ...,\n",
      "        [ 0.1048, -0.1308,  0.0005,  ..., -0.0086,  0.2763, -0.2246],\n",
      "        [ 0.0200,  0.1959, -0.2546,  ...,  0.2891,  0.2497,  0.2694],\n",
      "        [-0.2143, -0.1083, -0.0347,  ..., -0.1009,  0.0443,  0.2769]],\n",
      "       dtype=torch.float64, requires_grad=True)\n"
     ]
    }
   ],
   "source": [
    "print(net1[0].weight)"
   ]
  }
 ],
 "metadata": {
  "kernelspec": {
   "display_name": "Python 3",
   "language": "python",
   "name": "python3"
  },
  "language_info": {
   "codemirror_mode": {
    "name": "ipython",
    "version": 3
   },
   "file_extension": ".py",
   "mimetype": "text/x-python",
   "name": "python",
   "nbconvert_exporter": "python",
   "pygments_lexer": "ipython3",
   "version": "3.6.5"
  }
 },
 "nbformat": 4,
 "nbformat_minor": 2
}
